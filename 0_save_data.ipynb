{
 "cells": [
  {
   "cell_type": "code",
   "execution_count": 2,
   "metadata": {},
   "outputs": [],
   "source": [
    "import pandas as pd\n",
    "import sys, os\n",
    "import logging, json\n",
    "import pandas as pd\n",
    "from tqdm.notebook import tqdm\n",
    "from influxdb import InfluxDBClient"
   ]
  },
  {
   "cell_type": "code",
   "execution_count": 3,
   "metadata": {},
   "outputs": [
    {
     "data": {
      "text/html": [
       "<div>\n",
       "<style scoped>\n",
       "    .dataframe tbody tr th:only-of-type {\n",
       "        vertical-align: middle;\n",
       "    }\n",
       "\n",
       "    .dataframe tbody tr th {\n",
       "        vertical-align: top;\n",
       "    }\n",
       "\n",
       "    .dataframe thead th {\n",
       "        text-align: right;\n",
       "    }\n",
       "</style>\n",
       "<table border=\"1\" class=\"dataframe\">\n",
       "  <thead>\n",
       "    <tr style=\"text-align: right;\">\n",
       "      <th></th>\n",
       "      <th>name</th>\n",
       "    </tr>\n",
       "  </thead>\n",
       "  <tbody>\n",
       "    <tr>\n",
       "      <th>0</th>\n",
       "      <td>book</td>\n",
       "    </tr>\n",
       "    <tr>\n",
       "      <th>1</th>\n",
       "      <td>ticker</td>\n",
       "    </tr>\n",
       "    <tr>\n",
       "      <th>2</th>\n",
       "      <td>trades</td>\n",
       "    </tr>\n",
       "  </tbody>\n",
       "</table>\n",
       "</div>"
      ],
      "text/plain": [
       "     name\n",
       "0    book\n",
       "1  ticker\n",
       "2  trades"
      ]
     },
     "execution_count": 3,
     "metadata": {},
     "output_type": "execute_result"
    }
   ],
   "source": [
    "client_influx = InfluxDBClient(host='127.0.0.1', port=8086, username='admin', password='password', database='btc')\n",
    "def read_influx(query, client=client_influx):\n",
    "    logging.info(query)\n",
    "    return pd.DataFrame(client.query(query, chunked=True, chunk_size=10000).get_points())\n",
    "read_influx(\"SHOW MEASUREMENTS\")"
   ]
  },
  {
   "cell_type": "code",
   "execution_count": 63,
   "metadata": {},
   "outputs": [],
   "source": [
    "iql =\"\"\"SELECT * FROM \"ticker\" WHERE (\"feed\" = 'BINANCE_FUTURES' AND \"pair\" = 'BTC-USDT') AND time>now()-1h\"\"\"\n",
    "df_quote = read_influx(iql)"
   ]
  },
  {
   "cell_type": "code",
   "execution_count": 64,
   "metadata": {},
   "outputs": [],
   "source": [
    "iql =\"\"\"SELECT * FROM \"trades\" WHERE (\"feed\" = 'BINANCE_FUTURES' AND \"pair\" = 'BTC-USDT') AND time>now()-1h\"\"\"\n",
    "df_trade = read_influx(iql)"
   ]
  },
  {
   "cell_type": "code",
   "execution_count": 69,
   "metadata": {},
   "outputs": [],
   "source": [
    "#df_quote.to_csv('quote.csv')\n",
    "#df_trade.to_csv('trade.csv')"
   ]
  },
  {
   "cell_type": "code",
   "execution_count": 84,
   "metadata": {},
   "outputs": [],
   "source": [
    "df_quote['time'] = pd.to_datetime(df_quote['time'])\n",
    "df_trade['time'] = pd.to_datetime(df_trade['time'])"
   ]
  },
  {
   "cell_type": "code",
   "execution_count": 86,
   "metadata": {},
   "outputs": [],
   "source": [
    "df_taq = df_trade[['amount', 'price', 'side']].merge(df_quote[['ask', 'ask_size', 'bid', 'bid_size']], on='time', how='outer')"
   ]
  },
  {
   "cell_type": "code",
   "execution_count": 90,
   "metadata": {},
   "outputs": [],
   "source": [
    "df_taq.sort_index().to_csv('taq.csv')"
   ]
  },
  {
   "cell_type": "code",
   "execution_count": 4,
   "metadata": {},
   "outputs": [
    {
     "data": {
      "text/html": [
       "<div>\n",
       "<style scoped>\n",
       "    .dataframe tbody tr th:only-of-type {\n",
       "        vertical-align: middle;\n",
       "    }\n",
       "\n",
       "    .dataframe tbody tr th {\n",
       "        vertical-align: top;\n",
       "    }\n",
       "\n",
       "    .dataframe thead th {\n",
       "        text-align: right;\n",
       "    }\n",
       "</style>\n",
       "<table border=\"1\" class=\"dataframe\">\n",
       "  <thead>\n",
       "    <tr style=\"text-align: right;\">\n",
       "      <th></th>\n",
       "      <th>time</th>\n",
       "      <th>amount</th>\n",
       "      <th>price</th>\n",
       "      <th>side</th>\n",
       "      <th>ask</th>\n",
       "      <th>ask_size</th>\n",
       "      <th>bid</th>\n",
       "      <th>bid_size</th>\n",
       "    </tr>\n",
       "  </thead>\n",
       "  <tbody>\n",
       "    <tr>\n",
       "      <th>0</th>\n",
       "      <td>2021-04-19 05:58:25.757999872+00:00</td>\n",
       "      <td>0.054</td>\n",
       "      <td>56565.57</td>\n",
       "      <td>sell</td>\n",
       "      <td>NaN</td>\n",
       "      <td>NaN</td>\n",
       "      <td>NaN</td>\n",
       "      <td>NaN</td>\n",
       "    </tr>\n",
       "    <tr>\n",
       "      <th>1</th>\n",
       "      <td>2021-04-19 05:58:25.937999872+00:00</td>\n",
       "      <td>NaN</td>\n",
       "      <td>NaN</td>\n",
       "      <td>NaN</td>\n",
       "      <td>56565.58</td>\n",
       "      <td>1.745</td>\n",
       "      <td>56565.57</td>\n",
       "      <td>0.521</td>\n",
       "    </tr>\n",
       "    <tr>\n",
       "      <th>2</th>\n",
       "      <td>2021-04-19 05:58:25.969000192+00:00</td>\n",
       "      <td>NaN</td>\n",
       "      <td>NaN</td>\n",
       "      <td>NaN</td>\n",
       "      <td>56565.58</td>\n",
       "      <td>1.745</td>\n",
       "      <td>56565.57</td>\n",
       "      <td>0.515</td>\n",
       "    </tr>\n",
       "    <tr>\n",
       "      <th>3</th>\n",
       "      <td>2021-04-19 05:58:25.974999808+00:00</td>\n",
       "      <td>NaN</td>\n",
       "      <td>NaN</td>\n",
       "      <td>NaN</td>\n",
       "      <td>56565.58</td>\n",
       "      <td>1.745</td>\n",
       "      <td>56565.57</td>\n",
       "      <td>0.520</td>\n",
       "    </tr>\n",
       "    <tr>\n",
       "      <th>4</th>\n",
       "      <td>2021-04-19 05:58:26.006000128+00:00</td>\n",
       "      <td>NaN</td>\n",
       "      <td>NaN</td>\n",
       "      <td>NaN</td>\n",
       "      <td>56565.58</td>\n",
       "      <td>1.465</td>\n",
       "      <td>56565.57</td>\n",
       "      <td>0.520</td>\n",
       "    </tr>\n",
       "  </tbody>\n",
       "</table>\n",
       "</div>"
      ],
      "text/plain": [
       "                                  time  amount     price  side       ask  \\\n",
       "0  2021-04-19 05:58:25.757999872+00:00   0.054  56565.57  sell       NaN   \n",
       "1  2021-04-19 05:58:25.937999872+00:00     NaN       NaN   NaN  56565.58   \n",
       "2  2021-04-19 05:58:25.969000192+00:00     NaN       NaN   NaN  56565.58   \n",
       "3  2021-04-19 05:58:25.974999808+00:00     NaN       NaN   NaN  56565.58   \n",
       "4  2021-04-19 05:58:26.006000128+00:00     NaN       NaN   NaN  56565.58   \n",
       "\n",
       "   ask_size       bid  bid_size  \n",
       "0       NaN       NaN       NaN  \n",
       "1     1.745  56565.57     0.521  \n",
       "2     1.745  56565.57     0.515  \n",
       "3     1.745  56565.57     0.520  \n",
       "4     1.465  56565.57     0.520  "
      ]
     },
     "execution_count": 4,
     "metadata": {},
     "output_type": "execute_result"
    }
   ],
   "source": [
    "pd.read_csv('taq.csv').head()"
   ]
  },
  {
   "cell_type": "code",
   "execution_count": null,
   "metadata": {},
   "outputs": [],
   "source": []
  }
 ],
 "metadata": {
  "kernelspec": {
   "display_name": "py37",
   "language": "python",
   "name": "py37"
  },
  "language_info": {
   "codemirror_mode": {
    "name": "ipython",
    "version": 3
   },
   "file_extension": ".py",
   "mimetype": "text/x-python",
   "name": "python",
   "nbconvert_exporter": "python",
   "pygments_lexer": "ipython3",
   "version": "3.7.7"
  }
 },
 "nbformat": 4,
 "nbformat_minor": 4
}
